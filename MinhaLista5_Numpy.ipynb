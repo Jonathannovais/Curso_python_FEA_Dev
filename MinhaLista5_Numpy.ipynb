{
  "cells": [
    {
      "cell_type": "markdown",
      "metadata": {
        "id": "view-in-github",
        "colab_type": "text"
      },
      "source": [
        "<a href=\"https://colab.research.google.com/github/Jonathannovais/Curso_python_FEA_Dev/blob/main/MinhaLista5_Numpy.ipynb\" target=\"_parent\"><img src=\"https://colab.research.google.com/assets/colab-badge.svg\" alt=\"Open In Colab\"/></a>"
      ]
    },
    {
      "cell_type": "markdown",
      "id": "b43aaa0c",
      "metadata": {
        "id": "b43aaa0c"
      },
      "source": [
        "# Numpy"
      ]
    },
    {
      "cell_type": "markdown",
      "id": "fcb03367",
      "metadata": {
        "id": "fcb03367"
      },
      "source": [
        "NumPy é uma biblioteca do Python especializada em computação científica e análise de dados. Ela é usada em diversos tipos de operações que envolvem operações matriciais. Além disso suas matrizes formam a base para outros pacotes, como o pandas e outras voltadas para o cálculo matemático e científico.\n",
        "\n",
        "NumPy, com suas matrizes, apresenta algumas vantagens sobre o cálculo usual com objetos do Python, como listas e tuplas. Essas operações são mais rápidas e flexíveis e foram construídas de forma a evitar a necessidade da realização de laços (loops)."
      ]
    },
    {
      "cell_type": "markdown",
      "id": "fe0a6a2d",
      "metadata": {
        "id": "fe0a6a2d"
      },
      "source": [
        "### <font color=green|black>**Futebol, Finanças e Python** </font>\n",
        "Os exercícios utilizam os dados disponíveis no relatório Convocados da XP: Finanças, História e Mercado do Futebol Brasileiro em 2021. Você verá como é fácil analisar tantos dados quando se entende de Python!\n",
        "#### <font color=green|black>**Bons estudos!**</font>"
      ]
    },
    {
      "cell_type": "markdown",
      "id": "2531e94a",
      "metadata": {
        "id": "2531e94a"
      },
      "source": [
        "# <font >Exercício 0: Importação </font>"
      ]
    },
    {
      "cell_type": "markdown",
      "id": "52473a88",
      "metadata": {
        "id": "52473a88"
      },
      "source": [
        "Utilizaremos diversas arrays, porém, para que o Python as reconheça, você primeiro precisa importar numpy como np."
      ]
    },
    {
      "cell_type": "code",
      "execution_count": null,
      "id": "c925603a",
      "metadata": {
        "id": "c925603a"
      },
      "outputs": [],
      "source": [
        "##### SEU CODIGO COMECA AQUI #####\n",
        "import numpy as np\n"
      ]
    },
    {
      "cell_type": "markdown",
      "id": "7c31f377",
      "metadata": {
        "id": "7c31f377"
      },
      "source": [
        "# <font >Exercício 1: String </font>"
      ]
    },
    {
      "cell_type": "markdown",
      "id": "579683dd",
      "metadata": {
        "id": "579683dd"
      },
      "source": [
        "**a)** Para verificarmos se você importou corretamente, converta a lista 'clubes' em uma array chamada 'np_clubes' e print três coisas: a np_clube, o seu tipo (type) e a quantidade de clubes (shape)."
      ]
    },
    {
      "cell_type": "code",
      "execution_count": null,
      "id": "441f7eec",
      "metadata": {
        "id": "441f7eec",
        "outputId": "b6993c87-b61e-4b91-d55c-b44e490e096c",
        "colab": {
          "base_uri": "https://localhost:8080/"
        }
      },
      "outputs": [
        {
          "output_type": "stream",
          "name": "stdout",
          "text": [
            "['America Mineiro' 'Athletico Paranaense' 'Atletico Goianiense'\n",
            " 'Atletico Mineiro' 'Avai' 'Bahia' 'Botafogo' 'Ceara' 'Chapecoense'\n",
            " 'Corinthians' 'Coritiba' 'Cuiaba' 'Cruzeiro' 'Flamengo' 'Fluminense'\n",
            " 'Fortaleza' 'Goias' 'Gremio' 'Internacional' 'Juventude' 'Palmeiras'\n",
            " 'Red Bull Bragantino' 'Santos' 'Sao Paulo' 'Sport' 'Vasco'] <U20 (26,)\n"
          ]
        }
      ],
      "source": [
        "clubes = ['America Mineiro', 'Athletico Paranaense', 'Atletico Goianiense', 'Atletico Mineiro', 'Avai', 'Bahia', 'Botafogo', 'Ceara', 'Chapecoense', 'Corinthians', 'Coritiba', 'Cuiaba', 'Cruzeiro', 'Flamengo', 'Fluminense', 'Fortaleza', 'Goias', 'Gremio', 'Internacional', 'Juventude', 'Palmeiras', 'Red Bull Bragantino', 'Santos', 'Sao Paulo', 'Sport', 'Vasco']\n",
        "\n",
        "##### SEU CODIGO COMECA AQUI #####\n",
        "import numpy as np\n",
        "clubes = ['America Mineiro', 'Athletico Paranaense', 'Atletico Goianiense', 'Atletico Mineiro', 'Avai', 'Bahia', 'Botafogo', 'Ceara', 'Chapecoense', 'Corinthians', 'Coritiba', 'Cuiaba', 'Cruzeiro', 'Flamengo', 'Fluminense', 'Fortaleza', 'Goias', 'Gremio', 'Internacional', 'Juventude', 'Palmeiras', 'Red Bull Bragantino', 'Santos', 'Sao Paulo', 'Sport', 'Vasco']\n",
        "np_clubes = np.array(clubes)\n",
        "print(np_clubes,np_clubes.dtype, np_clubes.shape)\n"
      ]
    },
    {
      "cell_type": "markdown",
      "id": "6736ddf0",
      "metadata": {
        "id": "6736ddf0"
      },
      "source": [
        "**b)** Suponha que você quer mostrar a array para alguém que não enxerga muito bem. Por isso, decide printar todos os nomes dos clubes em maiúsculo! *Dica: utilize a function_upper criada por nós conforme mostramos no exemplo.*"
      ]
    },
    {
      "cell_type": "code",
      "execution_count": null,
      "id": "816b2668",
      "metadata": {
        "id": "816b2668",
        "outputId": "f2b7218e-bf95-4519-d9f6-3cec3b6f3420",
        "colab": {
          "base_uri": "https://localhost:8080/"
        }
      },
      "outputs": [
        {
          "output_type": "stream",
          "name": "stdout",
          "text": [
            "['MÃE, ENTREI NA USP!']\n"
          ]
        }
      ],
      "source": [
        "exemplo = ['mãe, entrei na usp!']\n",
        "\n",
        "function_upper = np.vectorize(str.upper)\n",
        "\n",
        "exemplo_em_maiusculo = function_upper(exemplo)\n",
        "\n",
        "print(exemplo_em_maiusculo)"
      ]
    },
    {
      "cell_type": "code",
      "execution_count": null,
      "id": "58df6491",
      "metadata": {
        "id": "58df6491",
        "colab": {
          "base_uri": "https://localhost:8080/"
        },
        "outputId": "3208f2cf-56b0-4e60-a61b-317f5f906814"
      },
      "outputs": [
        {
          "output_type": "stream",
          "name": "stdout",
          "text": [
            "['AMERICA MINEIRO' 'ATHLETICO PARANAENSE' 'ATLETICO GOIANIENSE'\n",
            " 'ATLETICO MINEIRO' 'AVAI' 'BAHIA' 'BOTAFOGO' 'CEARA' 'CHAPECOENSE'\n",
            " 'CORINTHIANS' 'CORITIBA' 'CUIABA' 'CRUZEIRO' 'FLAMENGO' 'FLUMINENSE'\n",
            " 'FORTALEZA' 'GOIAS' 'GREMIO' 'INTERNACIONAL' 'JUVENTUDE' 'PALMEIRAS'\n",
            " 'RED BULL BRAGANTINO' 'SANTOS' 'SAO PAULO' 'SPORT' 'VASCO']\n"
          ]
        }
      ],
      "source": [
        "##### SEU CODIGO COMECA AQUI #####\n",
        "clubes = ['America Mineiro', 'Athletico Paranaense', 'Atletico Goianiense', 'Atletico Mineiro', 'Avai', 'Bahia', 'Botafogo', 'Ceara', 'Chapecoense', 'Corinthians', 'Coritiba', 'Cuiaba', 'Cruzeiro', 'Flamengo', 'Fluminense', 'Fortaleza', 'Goias', 'Gremio', 'Internacional', 'Juventude', 'Palmeiras', 'Red Bull Bragantino', 'Santos', 'Sao Paulo', 'Sport', 'Vasco']\n",
        "function_upper = np.vectorize(str.upper)\n",
        "clubes_maiusculo = function_upper(clubes) \n",
        "print(clubes_maiusculo)"
      ]
    },
    {
      "cell_type": "markdown",
      "id": "bf54de94",
      "metadata": {
        "id": "bf54de94"
      },
      "source": [
        "# <font >Exercício 2: Receita </font>"
      ]
    },
    {
      "cell_type": "markdown",
      "id": "34cf9cb5",
      "metadata": {
        "id": "34cf9cb5"
      },
      "source": [
        "Agora que já brincamos com strings, vamos à melhor parte: números. \n",
        "\n",
        "Disponibilizams uma array contendo a receita de cada clube em 2021. Os dados estão em milhões BRL. Você precisa analisar dois dados: soma e média. Print tua resposta da seguinte maneira: **No ano 2021, a receita total do setor de futebol foi de X e a média de Y.**"
      ]
    },
    {
      "cell_type": "code",
      "execution_count": null,
      "id": "b29c53cd",
      "metadata": {
        "id": "b29c53cd",
        "colab": {
          "base_uri": "https://localhost:8080/"
        },
        "outputId": "5d624f50-9cb6-419d-a417-195e8563cf5a"
      },
      "outputs": [
        {
          "output_type": "stream",
          "name": "stdout",
          "text": [
            " No ano 2021, a receita total do setor de futebol foi de 7183 milhões BRL e a média de 276.2692307692308  milhões BRL\n"
          ]
        }
      ],
      "source": [
        "import numpy as np\n",
        "\n",
        "receita_2021 = np.array([102, 265, 113, 506, 25, 200, 122, 140, 62, 503, 88, 70, 154, 1054, 324, 171, 50, 465, 382, 68, 911, 291, 372, 465, 94, 186])   \n",
        "\n",
        "##### SEU CODIGO COMECA AQUI #####\n",
        "import numpy as np\n",
        "\n",
        "x = receita_2021.sum()\n",
        "y = receita_2021.mean()\n",
        "\n",
        "print(f\" No ano 2021, a receita total do setor de futebol foi de {x} milhões BRL e a média de {y}  milhões BRL\")"
      ]
    },
    {
      "cell_type": "markdown",
      "id": "65aaa8fd",
      "metadata": {
        "id": "65aaa8fd"
      },
      "source": [
        "# <font >Exercício 3: Custos e Despesas </font>"
      ]
    },
    {
      "cell_type": "markdown",
      "id": "b2a06423",
      "metadata": {
        "id": "b2a06423"
      },
      "source": [
        "Disponibilizamos uma array contendo os custos e despesas de cada clube em 2021. Os dados estão em milhões BRL. Você precisa analisar dois dados: soma e média. Print tua resposta da seguinte maneira: **No ano 2021, os custos e despesas totais do setor de futebol foram de X e a média de Y.**"
      ]
    },
    {
      "cell_type": "code",
      "execution_count": null,
      "id": "f29f1993",
      "metadata": {
        "id": "f29f1993",
        "colab": {
          "base_uri": "https://localhost:8080/"
        },
        "outputId": "e61fd881-1ee5-4870-8e74-e8ecfe39df1a"
      },
      "outputs": [
        {
          "output_type": "stream",
          "name": "stdout",
          "text": [
            "No ano 2021, os custos e despesas totais do setor de futebol foram de 4975 milhões R$ e a média de 191.34615384615384 milhões R$.\n"
          ]
        }
      ],
      "source": [
        "custos_e_despesas_2021 = np.array([87, 170, 73, 386, 52, 132, 113, 108, 74, 324, 88, 66, 175, 545, 243, 132, 44, 336, 251, 51, 555, 185, 226, 363, 59, 137])\n",
        "\n",
        "##### SEU CODIGO COMECA AQUI #####\n",
        "x = custos_e_despesas_2021.sum()\n",
        "y = custos_e_despesas_2021.mean()\n",
        "\n",
        "print(f\"No ano 2021, os custos e despesas totais do setor de futebol foram de {x} milhões R$ e a média de {y} milhões R$.\")"
      ]
    },
    {
      "cell_type": "markdown",
      "id": "8bc57b94",
      "metadata": {
        "id": "8bc57b94"
      },
      "source": [
        "# <font >Exercício 4: Resultado Líquido </font>"
      ]
    },
    {
      "cell_type": "markdown",
      "id": "2f51283d",
      "metadata": {
        "id": "2f51283d"
      },
      "source": [
        "Para se chegar ao Resultado Líquido é preciso recolher os impostos ICMS, PIS, COFINS, IRPJ e CSLL. Entretanto, devido à Lei nº 9.615 (Lei Pelé), os clubes brasileiros recebem imunidade destes tributos em suas Demonstrações de Resultado. Sendo assim, ao subtrair os custos e despesas da Receita Total, o valor obtido já é o próprio Resultado Líquido.\n",
        "\n",
        "**a)** Crie e print uma array chamada resultado_liquido_2021 que subtraia os custos e despesas das receitas totais. "
      ]
    },
    {
      "cell_type": "code",
      "execution_count": null,
      "id": "bf02a65b",
      "metadata": {
        "id": "bf02a65b",
        "colab": {
          "base_uri": "https://localhost:8080/"
        },
        "outputId": "aac18214-95e0-4391-8485-d64789af4600"
      },
      "outputs": [
        {
          "output_type": "stream",
          "name": "stdout",
          "text": [
            "o resultado líquido é: [ 15  95  40 120 -27  68   9  32 -12 179   0   4 -21 509  81  39   6 129\n",
            " 131  17 356 106 146 102  35  49]\n"
          ]
        }
      ],
      "source": [
        "##### SEU CODIGO COMECA AQUI #####\n",
        "a = receita_2021 = np.array([102, 265, 113, 506, 25, 200, 122, 140, 62, 503, 88, 70, 154, 1054, 324, 171, 50, 465, 382, 68, 911, 291, 372, 465, 94, 186])  \n",
        "b = custos_e_despesas_2021 = np.array([87, 170, 73, 386, 52, 132, 113, 108, 74, 324, 88, 66, 175, 545, 243, 132, 44, 336, 251, 51, 555, 185, 226, 363, 59, 137])\n",
        "\n",
        "resultado_liquido_2021 = a - b\n",
        "\n",
        "print(f\"o resultado líquido é: {resultado_liquido_2021}\")"
      ]
    },
    {
      "cell_type": "markdown",
      "id": "837421ae",
      "metadata": {
        "id": "837421ae"
      },
      "source": [
        "**b)** Imprima o nome de todos os clubes com seu resultado líquido. Print tua resposta da seguinte maneira: **América Mineiro: 15, Athletico Paranaense: 95... Vasco: 49**. \n",
        "\n",
        "*Dica: embora seja possível utilizar um loop com o mesmo índice nas arrays np_clubes e resultado_liquido_2021, o mais rápido e fácil é um recurso chamado **zip**.*"
      ]
    },
    {
      "cell_type": "code",
      "execution_count": null,
      "id": "7bf84c20",
      "metadata": {
        "id": "7bf84c20",
        "colab": {
          "base_uri": "https://localhost:8080/"
        },
        "outputId": "07d2cf76-60ad-4071-8f53-0396594722c7"
      },
      "outputs": [
        {
          "output_type": "stream",
          "name": "stdout",
          "text": [
            "{'America Mineiro': 15, 'Athletico Paranaense': 95, 'Atletico Goianiense': 40, 'Atletico Mineiro': 120, 'Avai': -27, 'Bahia': 68, 'Botafogo': 9, 'Ceara': 32, 'Chapecoense': -12, 'Corinthians': 179, 'Coritiba': 0, 'Cuiaba': 4, 'Cruzeiro': -21, 'Flamengo': 509, 'Fluminense': 81, 'Fortaleza': 39, 'Goias': 6, 'Gremio': 129, 'Internacional': 131, 'Juventude': 17, 'Palmeiras': 356, 'Red Bull Bragantino': 106, 'Santos': 146, 'Sao Paulo': 102, 'Sport': 35, 'Vasco': 49}\n",
            "America Mineiro 15\n",
            "Athletico Paranaense 95\n",
            "Atletico Goianiense 40\n",
            "Atletico Mineiro 120\n",
            "Avai -27\n",
            "Bahia 68\n",
            "Botafogo 9\n",
            "Ceara 32\n",
            "Chapecoense -12\n",
            "Corinthians 179\n",
            "Coritiba 0\n",
            "Cuiaba 4\n",
            "Cruzeiro -21\n",
            "Flamengo 509\n",
            "Fluminense 81\n",
            "Fortaleza 39\n",
            "Goias 6\n",
            "Gremio 129\n",
            "Internacional 131\n",
            "Juventude 17\n",
            "Palmeiras 356\n",
            "Red Bull Bragantino 106\n",
            "Santos 146\n",
            "Sao Paulo 102\n",
            "Sport 35\n",
            "Vasco 49\n"
          ]
        }
      ],
      "source": [
        "##### SEU CODIGO COMECA AQUI #####\n",
        "\n",
        "import numpy as np\n",
        "\n",
        "clubes = ['America Mineiro', 'Athletico Paranaense', 'Atletico Goianiense', 'Atletico Mineiro', 'Avai', 'Bahia', 'Botafogo', 'Ceara', 'Chapecoense', 'Corinthians', 'Coritiba', 'Cuiaba', 'Cruzeiro', 'Flamengo', 'Fluminense', 'Fortaleza', 'Goias', 'Gremio', 'Internacional', 'Juventude', 'Palmeiras', 'Red Bull Bragantino', 'Santos', 'Sao Paulo', 'Sport', 'Vasco']\n",
        "np_clubes = np.array(clubes)\n",
        "\n",
        "a = receita_2021 = np.array([102, 265, 113, 506, 25, 200, 122, 140, 62, 503, 88, 70, 154, 1054, 324, 171, 50, 465, 382, 68, 911, 291, 372, 465, 94, 186])  \n",
        "b = custos_e_despesas_2021 = np.array([87, 170, 73, 386, 52, 132, 113, 108, 74, 324, 88, 66, 175, 545, 243, 132, 44, 336, 251, 51, 555, 185, 226, 363, 59, 137])\n",
        "\n",
        "resultado_liquido_2021 = a - b\n",
        "\n",
        "c = np_clubes\n",
        "d = resultado_liquido_2021\n",
        "n = dict(zip(c,d))\n",
        "print(n)\n",
        "\n",
        "#outra forma de listar os clubes e suas receitas líquidas\n",
        "\n",
        "for i,j in zip(c,d):\n",
        "  print(i,j)"
      ]
    },
    {
      "cell_type": "markdown",
      "id": "6251edca",
      "metadata": {
        "id": "6251edca"
      },
      "source": [
        "# <font >Exercício 5: Análises Individuais </font>"
      ]
    },
    {
      "cell_type": "markdown",
      "id": "56ea740e",
      "metadata": {
        "id": "56ea740e"
      },
      "source": [
        "**a)** Filtre e print os clubes que possuíram resultado líquido acima de 200 milhões. "
      ]
    },
    {
      "cell_type": "code",
      "execution_count": null,
      "id": "9f197853",
      "metadata": {
        "id": "9f197853",
        "colab": {
          "base_uri": "https://localhost:8080/"
        },
        "outputId": "e33d8daa-6477-4c9e-8712-162109089aa2"
      },
      "outputs": [
        {
          "output_type": "stream",
          "name": "stdout",
          "text": [
            "Flamengo\n",
            "Palmeiras\n"
          ]
        }
      ],
      "source": [
        "##### SEU CODIGO COMECA AQUI #####\n",
        "for i,j in zip(c,d):\n",
        "  if j > 200:\n",
        "    print(i)"
      ]
    },
    {
      "cell_type": "markdown",
      "id": "02cdde39",
      "metadata": {
        "id": "02cdde39"
      },
      "source": [
        "**b)** Filtre e print os clubes que possuíram resultado líquido abaixo de 10 milhões. "
      ]
    },
    {
      "cell_type": "code",
      "execution_count": null,
      "id": "f1050b56",
      "metadata": {
        "id": "f1050b56",
        "colab": {
          "base_uri": "https://localhost:8080/"
        },
        "outputId": "91353fcc-fdb0-46fa-96c1-1e093a17963a"
      },
      "outputs": [
        {
          "output_type": "stream",
          "name": "stdout",
          "text": [
            "Avai\n",
            "Botafogo\n",
            "Chapecoense\n",
            "Coritiba\n",
            "Cuiaba\n",
            "Cruzeiro\n",
            "Goias\n"
          ]
        }
      ],
      "source": [
        "##### SEU CODIGO COMECA AQUI #####\n",
        "for i,j in zip(c,d):\n",
        "  if j < 10:\n",
        "    print(i)"
      ]
    },
    {
      "cell_type": "markdown",
      "id": "14419f55",
      "metadata": {
        "id": "14419f55"
      },
      "source": [
        "# <font >Exercício 6: Simulação </font>"
      ]
    },
    {
      "cell_type": "markdown",
      "id": "66bd32db",
      "metadata": {
        "id": "66bd32db"
      },
      "source": [
        "**a)** Em 2022, espera-se aumento da receito visto que o público retornou aos estádios. Suponha que haverá um crescimento de 22% da receita em relação a 2021. Crie uma nova array chamada projecao_receita_2022 com esse cálculo. Print tanto a projecao_receita_2022 quanto o somatório da array."
      ]
    },
    {
      "cell_type": "code",
      "execution_count": null,
      "id": "5d2e84dd",
      "metadata": {
        "id": "5d2e84dd",
        "colab": {
          "base_uri": "https://localhost:8080/"
        },
        "outputId": "f8017277-f213-47c6-f966-4e1c33b5d659"
      },
      "outputs": [
        {
          "output_type": "stream",
          "name": "stdout",
          "text": [
            "[ 124.44  323.3   137.86  617.32   30.5   244.    148.84  170.8    75.64\n",
            "  613.66  107.36   85.4   187.88 1285.88  395.28  208.62   61.    567.3\n",
            "  466.04   82.96 1111.42  355.02  453.84  567.3   114.68  226.92] 8763.26\n"
          ]
        }
      ],
      "source": [
        "##### SEU CODIGO COMECA AQUI #####\n",
        "import numpy as np\n",
        "receita_2021 = np.array([102, 265, 113, 506, 25, 200, 122, 140, 62, 503, 88, 70, 154, 1054, 324, 171, 50, 465, 382, 68, 911, 291, 372, 465, 94, 186])\n",
        "\n",
        "projecao_receita_2022 = np.array(receita_2021)*(1+0.22)\n",
        "\n",
        "print(projecao_receita_2022, projecao_receita_2022.sum())"
      ]
    },
    {
      "cell_type": "markdown",
      "id": "64f8799b",
      "metadata": {
        "id": "64f8799b"
      },
      "source": [
        "**b)** No Brasil, a meta para a inflação é definida pelo Conselho Monetário Nacional (CMN) e cabe ao Banco Central (BC) adotar as medidas necessárias para alcançá-la. O índice de preços utilizado é o Índice Nacional de Preços ao Consumidor Amplo (IPCA), calculado pelo Instituto Brasileiro de Geografia e Estatística (IBGE). A meta se refere à inflação acumulada no ano. Por exemplo, a meta para 2022 foi de uma inflação de 4,00%.\n",
        "\n",
        "Tendo isso em mente, suponha que em 2022 os clubes continuarão com os mesmos custos e despesas, porém, é preciso corrigi-los pela inflação. Crie uma nova array chamada projecao_custos_e_despesas_2022 com esse cálculo. Print tanto a projecao_custos_e_despesas_2022 quanto o somatório da array."
      ]
    },
    {
      "cell_type": "code",
      "execution_count": null,
      "id": "ad4ced08",
      "metadata": {
        "id": "ad4ced08",
        "colab": {
          "base_uri": "https://localhost:8080/"
        },
        "outputId": "fa23434a-d1db-4b95-ed4c-8a802e8253b5"
      },
      "outputs": [
        {
          "output_type": "stream",
          "name": "stdout",
          "text": [
            "[ 90.48 176.8   75.92 401.44  54.08 137.28 117.52 112.32  76.96 336.96\n",
            "  91.52  68.64 182.   566.8  252.72 137.28  45.76 349.44 261.04  53.04\n",
            " 577.2  192.4  235.04 377.52  61.36 142.48] 5174.0\n"
          ]
        }
      ],
      "source": [
        "##### SEU CODIGO COMECA AQUI #####\n",
        "import numpy as np\n",
        "\n",
        "custos_e_despesas_2021 = np.array([87, 170, 73, 386, 52, 132, 113, 108, 74, 324, 88, 66, 175, 545, 243, 132, 44, 336, 251, 51, 555, 185, 226, 363, 59, 137])\n",
        "\n",
        "projecao_custos_e_despesas_2022 = np.array(custos_e_despesas_2021)*(1+0.04)\n",
        "print(projecao_custos_e_despesas_2022, projecao_custos_e_despesas_2022.sum())"
      ]
    },
    {
      "cell_type": "markdown",
      "id": "2a846478",
      "metadata": {
        "id": "2a846478"
      },
      "source": [
        "**c)**  Considerando as projeções de receita, custos e despesas, crie uma nova array chamada projecao_resultado_liquido_2022. Print tanto a projecao_resultado_liquido_2022 quanto o somatório da array."
      ]
    },
    {
      "cell_type": "code",
      "execution_count": null,
      "id": "9045889f",
      "metadata": {
        "id": "9045889f",
        "colab": {
          "base_uri": "https://localhost:8080/"
        },
        "outputId": "eb83e4fc-5e8c-4add-b8ef-10ca174e58a7"
      },
      "outputs": [
        {
          "output_type": "stream",
          "name": "stdout",
          "text": [
            "[ 33.96 146.5   61.94 215.88 -23.58 106.72  31.32  58.48  -1.32 276.7\n",
            "  15.84  16.76   5.88 719.08 142.56  71.34  15.24 217.86 205.    29.92\n",
            " 534.22 162.62 218.8  189.78  53.32  84.44] 3589.2599999999998\n"
          ]
        }
      ],
      "source": [
        "##### SEU CODIGO COMECA AQUI #####\n",
        "import numpy as pd\n",
        "x = projecao_receita_2022\n",
        "w = projecao_custos_e_despesas_2022\n",
        "m = x - w\n",
        "projecao_resultado_liquido_2022 = np.array(m)\n",
        "print(projecao_resultado_liquido_2022, projecao_resultado_liquido_2022.sum())"
      ]
    },
    {
      "cell_type": "markdown",
      "id": "88165041",
      "metadata": {
        "id": "88165041"
      },
      "source": [
        "# <font >Extra: Investidor anjo </font>"
      ]
    },
    {
      "cell_type": "markdown",
      "id": "f0e20182",
      "metadata": {
        "id": "f0e20182"
      },
      "source": [
        "**a)** Você é um investidor anjo e após analisar a situação financeira dos clubes brasileiros, decide investir nos que estão mais desfavoráveis em relação à média do setor. Para isso, crie e print uma array chamada np_analisar que filtre os clubes da array np_clubes nos quais estão abaixo da média na array resultado_liquido_2021."
      ]
    },
    {
      "cell_type": "code",
      "execution_count": null,
      "id": "8d2f1974",
      "metadata": {
        "id": "8d2f1974",
        "colab": {
          "base_uri": "https://localhost:8080/"
        },
        "outputId": "33795ade-1da0-476a-e375-f49e84403198"
      },
      "outputs": [
        {
          "output_type": "stream",
          "name": "stdout",
          "text": [
            "['America Mineiro' 'Atletico Goianiense' 'Avai' 'Bahia' 'Botafogo' 'Ceara'\n",
            " 'Chapecoense' 'Coritiba' 'Cuiaba' 'Cruzeiro' 'Fluminense' 'Fortaleza'\n",
            " 'Goias' 'Juventude' 'Sport' 'Vasco']\n"
          ]
        }
      ],
      "source": [
        "##### SEU CODIGO COMECA AQUI #####\n",
        "import numpy as np\n",
        "\n",
        "\n",
        "ms = resultado_liquido_2021.mean()\n",
        "c = np_clubes\n",
        "d = resultado_liquido_2021\n",
        "\n",
        "\n",
        "np_analisar  = c[np.where(d < ms)]\n",
        " \n",
        "print(np_analisar)\n",
        "    \n",
        "\n",
        "     \n"
      ]
    },
    {
      "cell_type": "markdown",
      "id": "f720af8c",
      "metadata": {
        "id": "f720af8c"
      },
      "source": [
        "**b)** Você decide escolher aleatoriamente três times. Crie e print uma array chamada np_analisar_aleatório que selecione sem nenhum critério os clubes da np_analisar."
      ]
    },
    {
      "cell_type": "code",
      "execution_count": null,
      "id": "73bd986b",
      "metadata": {
        "id": "73bd986b",
        "colab": {
          "base_uri": "https://localhost:8080/"
        },
        "outputId": "05d5a02a-7f7d-4a6c-a2c5-e9110bff608b"
      },
      "outputs": [
        {
          "output_type": "execute_result",
          "data": {
            "text/plain": [
              "array(['Coritiba', 'Chapecoense', 'Fortaleza'], dtype='<U20')"
            ]
          },
          "metadata": {},
          "execution_count": 39
        }
      ],
      "source": [
        "##### SEU CODIGO COMECA AQUI #####\n",
        "import numpy as np\n",
        "\n",
        "np.random.choice(np_analisar,3)"
      ]
    },
    {
      "cell_type": "markdown",
      "id": "da0bb6fb",
      "metadata": {
        "id": "da0bb6fb"
      },
      "source": [
        "**c)** Você decide também escolher aleatoriamente os três investimentos. Crie e print uma array chamada np_investimento_aleatório que selecione valores entre 4 e 10 milhões. "
      ]
    },
    {
      "cell_type": "code",
      "execution_count": null,
      "id": "8fe7f0b7",
      "metadata": {
        "id": "8fe7f0b7",
        "colab": {
          "base_uri": "https://localhost:8080/"
        },
        "outputId": "df2adbb1-dcfe-4137-87bd-e58cb7502ee3"
      },
      "outputs": [
        {
          "output_type": "stream",
          "name": "stdout",
          "text": [
            "[9 6 9]\n"
          ]
        }
      ],
      "source": [
        "##### SEU CODIGO COMECA AQUI #####\n",
        "import numpy as np\n",
        "\n",
        "from random import randint\n",
        "\n",
        "np_investimento_aleatorio = np.random.randint(4,11,3)\n",
        "\n",
        "print(np_investimento_aleatorio)"
      ]
    },
    {
      "cell_type": "markdown",
      "id": "a8c08811",
      "metadata": {
        "id": "a8c08811"
      },
      "source": [
        "**d)** Por fim, basta printar quais dos três clubes irão receber cada investimento. Utilize da tua criatividade para criar algum tipo de critério."
      ]
    },
    {
      "cell_type": "code",
      "execution_count": null,
      "id": "7eb8b026",
      "metadata": {
        "id": "7eb8b026",
        "colab": {
          "base_uri": "https://localhost:8080/"
        },
        "outputId": "0daa243a-a95f-4db2-873d-917491466857"
      },
      "outputs": [
        {
          "output_type": "stream",
          "name": "stdout",
          "text": [
            "digite 3 valores pra investimento de 1 a 9: 856\n",
            "[('Gremio', '8'), ('Palmeiras', '5'), ('Vasco', '6')]\n"
          ]
        }
      ],
      "source": [
        "##### SEU CODIGO COMECA AQUI #####\n",
        "\n",
        "\n",
        "maiores_do_Brasil = clubes = ['Gremio', 'Palmeiras', 'Vasco']\n",
        "np_maiores_do_Brasil = np.array(maiores_do_Brasil)\n",
        "\n",
        "np_investimento_aleatorio = input(\"digite 3 valores pra investimento de 1 a 9: \")\n",
        "\n",
        "print([*zip(np_maiores_do_Brasil, np_investimento_aleatorio)])"
      ]
    },
    {
      "cell_type": "code",
      "source": [],
      "metadata": {
        "id": "dJ_dl6XFbD5I"
      },
      "id": "dJ_dl6XFbD5I",
      "execution_count": null,
      "outputs": []
    }
  ],
  "metadata": {
    "kernelspec": {
      "display_name": "Python 3.10.4 64-bit",
      "language": "python",
      "name": "python3"
    },
    "language_info": {
      "codemirror_mode": {
        "name": "ipython",
        "version": 3
      },
      "file_extension": ".py",
      "mimetype": "text/x-python",
      "name": "python",
      "nbconvert_exporter": "python",
      "pygments_lexer": "ipython3",
      "version": "3.10.4"
    },
    "vscode": {
      "interpreter": {
        "hash": "0255b2a1a85d95e539a3d37cbfeda14c0a475ccd427586120269d64df835fd1d"
      }
    },
    "colab": {
      "provenance": [],
      "collapsed_sections": [
        "fe0a6a2d"
      ],
      "include_colab_link": true
    }
  },
  "nbformat": 4,
  "nbformat_minor": 5
}